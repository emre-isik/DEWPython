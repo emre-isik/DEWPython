{
 "cells": [
  {
   "cell_type": "code",
   "execution_count": 1,
   "id": "49349687",
   "metadata": {},
   "outputs": [],
   "source": [
    "import numpy as np\n",
    "import DEWPython\n",
    "from DEWPython import DEWModel as dm"
   ]
  },
  {
   "cell_type": "code",
   "execution_count": 2,
   "id": "5019c086",
   "metadata": {},
   "outputs": [],
   "source": [
    "reaction = dm.DEW()"
   ]
  },
  {
   "cell_type": "code",
   "execution_count": 3,
   "id": "cd7b2896",
   "metadata": {},
   "outputs": [
    {
     "name": "stdout",
     "output_type": "stream",
     "text": [
      "Input Mineral SpeciesFAYALITE\n",
      "Input Mineral Species Multiplier3\n",
      "Input Mineral Species\n",
      "Input Mineral Species Multiplier\n",
      "Input Aqueous Species\n",
      "Input Aqueous Species Multiplier\n",
      "Input Gas Species\n",
      "Input Gas Species Multiplier\n",
      "Would you like to use water? (yes/no)yes\n",
      "Enter enter water Multiplier2\n"
     ]
    }
   ],
   "source": [
    "reaction.set_inputs()"
   ]
  },
  {
   "cell_type": "code",
   "execution_count": 4,
   "id": "09190dee",
   "metadata": {},
   "outputs": [
    {
     "name": "stdout",
     "output_type": "stream",
     "text": [
      "Output Mineral SpeciesMAGNETITE\n",
      "Output Mineral Species Multiplier2\n",
      "Output Mineral Species\n",
      "Output Mineral Species Multiplier\n",
      "Output Aqueous SpeciesSiO2,aq\n",
      "Output Aqueous Species Multiplier3\n",
      "Output Aqueous SpeciesH2,aq\n",
      "Output Aqueous Species Multiplier2\n",
      "Output Aqueous Species\n",
      "Output Aqueous Species Multiplier\n",
      "Input Gas Species\n",
      "Input Gas Species Multiplier\n",
      "Would you like to use water in the output? (yes/no)no\n"
     ]
    }
   ],
   "source": [
    "reaction.set_outputs()"
   ]
  },
  {
   "cell_type": "code",
   "execution_count": 5,
   "id": "58227b49",
   "metadata": {},
   "outputs": [
    {
     "name": "stdout",
     "output_type": "stream",
     "text": [
      "Which P-T input would you like to use? \"Custom\", \"Regular\", or \"Psat\"Regular\n",
      "Which density of water would you like to use? \"Z&D 2005\", \"Z&D 2009\", or \"Custom\"Z&D 2009\n",
      "Force Custom? (yes/no)no\n",
      "Dielectric Constant Equation Option: \"Supcrt\", \"Franck\", \"Fernandez\", \"Sverjensky\", or \"Custom\"Sverjensky\n",
      "Force Supcrt? (yes/no)no\n",
      "Water Free Energy Equation Option: \"D&H 1978\", \"Integral\", \"Custom\"D&H 1978\n",
      "Display Volume Option? (yes/no)no\n",
      "Psat Display Volume Option? (yes/no)no\n",
      "Display Volume? (yes/no)no\n"
     ]
    }
   ],
   "source": [
    "reaction.set_preferences()"
   ]
  },
  {
   "cell_type": "code",
   "execution_count": 6,
   "id": "4d4148da",
   "metadata": {},
   "outputs": [
    {
     "name": "stdout",
     "output_type": "stream",
     "text": [
      "Input the minimum temperature400\n",
      "Input the maximum temperature1000\n",
      "Input the temperature step1\n",
      "Input the minimum pressure (Kb)0.5\n",
      "Input the maximum pressure (Kb)5\n",
      "Input the pressure step (Kb)0.1\n"
     ]
    }
   ],
   "source": [
    "reaction.set_TPRho()"
   ]
  },
  {
   "cell_type": "code",
   "execution_count": 7,
   "id": "6ea208a6",
   "metadata": {},
   "outputs": [
    {
     "ename": "ValueError",
     "evalue": "400.0 is not in list",
     "output_type": "error",
     "traceback": [
      "\u001b[0;31m---------------------------------------------------------------------------\u001b[0m",
      "\u001b[0;31mValueError\u001b[0m                                Traceback (most recent call last)",
      "Cell \u001b[0;32mIn[7], line 1\u001b[0m\n\u001b[0;32m----> 1\u001b[0m \u001b[43mreaction\u001b[49m\u001b[38;5;241;43m.\u001b[39;49m\u001b[43mcalculate\u001b[49m\u001b[43m(\u001b[49m\u001b[43m)\u001b[49m\n",
      "File \u001b[0;32m~/work/dew/DEWPython/DEWPython/DEWModel.py:1169\u001b[0m, in \u001b[0;36mDEW.calculate\u001b[0;34m(self)\u001b[0m\n\u001b[1;32m   1167\u001b[0m         myMinPath \u001b[38;5;241m=\u001b[39m mineralDictionary\n\u001b[1;32m   1168\u001b[0m     \u001b[38;5;28;01mfor\u001b[39;00m temp \u001b[38;5;129;01min\u001b[39;00m \u001b[38;5;28mself\u001b[39m\u001b[38;5;241m.\u001b[39mtempUsed:\n\u001b[0;32m-> 1169\u001b[0m         \u001b[38;5;28mself\u001b[39m\u001b[38;5;241m.\u001b[39mmineralInpGibbs\u001b[38;5;241m.\u001b[39mappend(np\u001b[38;5;241m.\u001b[39mmultiply(myMinPath[\u001b[38;5;28mself\u001b[39m\u001b[38;5;241m.\u001b[39mmineralInputs[i][\u001b[38;5;241m0\u001b[39m]][\u001b[38;5;124m'\u001b[39m\u001b[38;5;124mdelG\u001b[39m\u001b[38;5;124m'\u001b[39m][\u001b[43mmyMinPath\u001b[49m\u001b[43m[\u001b[49m\u001b[38;5;28;43mself\u001b[39;49m\u001b[38;5;241;43m.\u001b[39;49m\u001b[43mmineralInputs\u001b[49m\u001b[43m[\u001b[49m\u001b[43mi\u001b[49m\u001b[43m]\u001b[49m\u001b[43m[\u001b[49m\u001b[38;5;241;43m0\u001b[39;49m\u001b[43m]\u001b[49m\u001b[43m]\u001b[49m\u001b[43m[\u001b[49m\u001b[38;5;124;43m'\u001b[39;49m\u001b[38;5;124;43mTemperature\u001b[39;49m\u001b[38;5;124;43m'\u001b[39;49m\u001b[43m]\u001b[49m\u001b[38;5;241;43m.\u001b[39;49m\u001b[43mindex\u001b[49m\u001b[43m(\u001b[49m\u001b[43mtemp\u001b[49m\u001b[43m)\u001b[49m], \u001b[38;5;28mint\u001b[39m(\u001b[38;5;28mself\u001b[39m\u001b[38;5;241m.\u001b[39mmineralInputs[i][\u001b[38;5;241m1\u001b[39m]))) \n\u001b[1;32m   1170\u001b[0m         \u001b[38;5;28mself\u001b[39m\u001b[38;5;241m.\u001b[39mmineralInpV\u001b[38;5;241m.\u001b[39mappend(np\u001b[38;5;241m.\u001b[39mmultiply(myMinPath[\u001b[38;5;28mself\u001b[39m\u001b[38;5;241m.\u001b[39mmineralInputs[i][\u001b[38;5;241m0\u001b[39m]][\u001b[38;5;124m'\u001b[39m\u001b[38;5;124mdelV\u001b[39m\u001b[38;5;124m'\u001b[39m][myMinPath[\u001b[38;5;28mself\u001b[39m\u001b[38;5;241m.\u001b[39mmineralInputs[i][\u001b[38;5;241m0\u001b[39m]][\u001b[38;5;124m'\u001b[39m\u001b[38;5;124mTemperature\u001b[39m\u001b[38;5;124m'\u001b[39m]\u001b[38;5;241m.\u001b[39mindex(temp)], \u001b[38;5;28mint\u001b[39m(\u001b[38;5;28mself\u001b[39m\u001b[38;5;241m.\u001b[39mmineralInputs[i][\u001b[38;5;241m1\u001b[39m]))) \n\u001b[1;32m   1171\u001b[0m dG \u001b[38;5;241m=\u001b[39m np\u001b[38;5;241m.\u001b[39msum([dG, np\u001b[38;5;241m.\u001b[39msum([\u001b[38;5;28mself\u001b[39m\u001b[38;5;241m.\u001b[39mmineralInpGibbs], axis \u001b[38;5;241m=\u001b[39m \u001b[38;5;241m0\u001b[39m)], axis \u001b[38;5;241m=\u001b[39m \u001b[38;5;241m0\u001b[39m)\n",
      "\u001b[0;31mValueError\u001b[0m: 400.0 is not in list"
     ]
    }
   ],
   "source": [
    "reaction.calculate()"
   ]
  },
  {
   "cell_type": "code",
   "execution_count": null,
   "id": "9bd603c7",
   "metadata": {},
   "outputs": [],
   "source": []
  }
 ],
 "metadata": {
  "kernelspec": {
   "display_name": "Python 3 (ipykernel)",
   "language": "python",
   "name": "python3"
  },
  "language_info": {
   "codemirror_mode": {
    "name": "ipython",
    "version": 3
   },
   "file_extension": ".py",
   "mimetype": "text/x-python",
   "name": "python",
   "nbconvert_exporter": "python",
   "pygments_lexer": "ipython3",
   "version": "3.8.15"
  }
 },
 "nbformat": 4,
 "nbformat_minor": 5
}
