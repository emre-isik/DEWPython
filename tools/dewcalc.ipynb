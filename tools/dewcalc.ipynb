{
 "cells": [
  {
   "cell_type": "markdown",
   "id": "daa0df3a",
   "metadata": {},
   "source": [
    "The DEW package allows the user to compute the thermodynamic and elastic properties of various aqueous inputs for a general range of 100 - 1200 C and a pressure range of 1.0 - 60 kb. It is based on the DEW spreadsheet and behaves similarly.The DEW package additionally provides integrated support for SUPCRTBL and can be used to directly import and compare species between the two models."
   ]
  },
  {
   "cell_type": "code",
   "execution_count": 1,
   "id": "dc6ccdf3",
   "metadata": {},
   "outputs": [],
   "source": [
    "import numpy as np\n",
    "import DEWPython\n",
    "from DEWPython import DEWModel as dm"
   ]
  },
  {
   "cell_type": "code",
   "execution_count": 2,
   "id": "b94b181b",
   "metadata": {},
   "outputs": [],
   "source": [
    "reaction = dm.DEW()"
   ]
  },
  {
   "cell_type": "code",
   "execution_count": 3,
   "id": "db3063aa",
   "metadata": {},
   "outputs": [],
   "source": [
    "pt_arr = [[100,1200,1], [1,60,1]] # temp (C), press (kb)"
   ]
  },
  {
   "cell_type": "code",
   "execution_count": 5,
   "id": "49bd18b7",
   "metadata": {},
   "outputs": [],
   "source": [
    "reaction.run(pt_arr, \n",
    "             min_inp =[], aq_inp = [['CO2,aq', '1'], ['H2,aq', '4']],g_inp = [], h2o_inp = 0,\n",
    "             min_out = [],aq_out =[['METHANE,AQ','1']], g_out = [],h2o_out = 2,\n",
    "             ptInp = 'Regular', rhoWat = 'Z&D 2005', forceBool = False, \n",
    "             dieEQ = 'Sverjensky', forceSC = False, WFEQ ='D&H 1978', dsV = False, \n",
    "             pdsV = False, DV = False, makePlots = False)"
   ]
  },
  {
   "cell_type": "code",
   "execution_count": 6,
   "id": "0d878eb6",
   "metadata": {},
   "outputs": [
    {
     "name": "stdout",
     "output_type": "stream",
     "text": [
      "Input the name of the CSV filemethanogenesis\n"
     ]
    }
   ],
   "source": [
    "reaction.export_to_csv()"
   ]
  }
 ],
 "metadata": {
  "kernelspec": {
   "display_name": "Python 3 (ipykernel)",
   "language": "python",
   "name": "python3"
  },
  "language_info": {
   "codemirror_mode": {
    "name": "ipython",
    "version": 3
   },
   "file_extension": ".py",
   "mimetype": "text/x-python",
   "name": "python",
   "nbconvert_exporter": "python",
   "pygments_lexer": "ipython3",
   "version": "3.8.15"
  }
 },
 "nbformat": 4,
 "nbformat_minor": 5
}
