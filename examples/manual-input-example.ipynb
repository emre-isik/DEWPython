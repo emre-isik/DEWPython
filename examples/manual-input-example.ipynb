{
 "cells": [
  {
   "cell_type": "code",
   "execution_count": 1,
   "id": "49349687",
   "metadata": {},
   "outputs": [
    {
     "name": "stdout",
     "output_type": "stream",
     "text": [
      "Extended Mineral Dictionary not in use\n"
     ]
    }
   ],
   "source": [
    "import numpy as np\n",
    "import DEWPython\n",
    "from DEWPython import DEWModel as dm"
   ]
  },
  {
   "cell_type": "code",
   "execution_count": 2,
   "id": "5019c086",
   "metadata": {},
   "outputs": [],
   "source": [
    "reaction = dm.DEW()"
   ]
  },
  {
   "cell_type": "code",
   "execution_count": 3,
   "id": "cd7b2896",
   "metadata": {},
   "outputs": [
    {
     "name": "stdout",
     "output_type": "stream",
     "text": [
      "Input Mineral Species\n",
      "Input Mineral Species Multiplier\n",
      "Input Aqueous SpeciesCO2,aq\n",
      "Input Aqueous Species Multiplier1\n",
      "Now printing self.aqueousInputs.append\n",
      "[['CO2,aq', '1']]\n",
      "Input Aqueous SpeciesH2,aq\n",
      "Input Aqueous Species Multiplier4\n",
      "Now printing self.aqueousInputs.append\n",
      "[['CO2,aq', '1'], ['H2,aq', '4']]\n",
      "Input Aqueous Species\n",
      "Input Aqueous Species Multiplier\n",
      "Input Gas Species\n",
      "Input Gas Species Multiplier\n",
      "Would you like to use water? (yes/no)no\n"
     ]
    }
   ],
   "source": [
    "reaction.set_inputs()"
   ]
  },
  {
   "cell_type": "code",
   "execution_count": 4,
   "id": "09190dee",
   "metadata": {},
   "outputs": [
    {
     "name": "stdout",
     "output_type": "stream",
     "text": [
      "Output Mineral Species\n",
      "Output Mineral Species Multiplier\n",
      "Output Aqueous SpeciesMETHANE,AQ\n",
      "Output Aqueous Species Multiplier1\n",
      "Output Aqueous Species\n",
      "Output Aqueous Species Multiplier\n",
      "Input Gas Species\n",
      "Input Gas Species Multiplier\n",
      "Would you like to use water in the output? (yes/no)yes\n",
      "Enter enter water Multiplier2\n"
     ]
    }
   ],
   "source": [
    "reaction.set_outputs()"
   ]
  },
  {
   "cell_type": "code",
   "execution_count": 5,
   "id": "58227b49",
   "metadata": {},
   "outputs": [
    {
     "name": "stdout",
     "output_type": "stream",
     "text": [
      "Which P-T input would you like to use? \"Custom\", \"Regular\", or \"Psat\"Regular\n",
      "Which density of water would you like to use? \"Z&D 2005\", \"Z&D 2009\", or \"Custom\"Z&D 2005\n",
      "Force Custom? (yes/no)no\n",
      "Dielectric Constant Equation Option: \"Supcrt\", \"Franck\", \"Fernandez\", \"Sverjensky\", or \"Custom\"Sverjensky\n",
      "Force Supcrt? (yes/no)no\n",
      "Water Free Energy Equation Option: \"D&H 1978\", \"Integral\", \"Custom\"D&H 1978\n",
      "Display Volume Option? (yes/no)no\n",
      "Psat Display Volume Option? (yes/no)no\n",
      "Display Volume? (yes/no)no\n"
     ]
    }
   ],
   "source": [
    "reaction.set_preferences()"
   ]
  },
  {
   "cell_type": "code",
   "execution_count": 6,
   "id": "4d4148da",
   "metadata": {},
   "outputs": [
    {
     "name": "stdout",
     "output_type": "stream",
     "text": [
      "Input the minimum temperature473\n",
      "Input the maximum temperature1473\n",
      "Input the temperature step1\n",
      "Input the minimum pressure (Kb)10\n",
      "Input the maximum pressure (Kb)60\n",
      "Input the pressure step (Kb)1\n"
     ]
    }
   ],
   "source": [
    "reaction.set_TPRho()"
   ]
  },
  {
   "cell_type": "code",
   "execution_count": 7,
   "id": "6ea208a6",
   "metadata": {},
   "outputs": [],
   "source": [
    "reaction.calculate()"
   ]
  },
  {
   "cell_type": "code",
   "execution_count": null,
   "id": "da802231",
   "metadata": {},
   "outputs": [],
   "source": []
  }
 ],
 "metadata": {
  "kernelspec": {
   "display_name": "Python 3 (ipykernel)",
   "language": "python",
   "name": "python3"
  },
  "language_info": {
   "codemirror_mode": {
    "name": "ipython",
    "version": 3
   },
   "file_extension": ".py",
   "mimetype": "text/x-python",
   "name": "python",
   "nbconvert_exporter": "python",
   "pygments_lexer": "ipython3",
   "version": "3.10.6"
  }
 },
 "nbformat": 4,
 "nbformat_minor": 5
}
