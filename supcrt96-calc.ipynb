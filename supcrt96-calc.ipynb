{
 "cells": [
  {
   "cell_type": "code",
   "execution_count": 1,
   "id": "8bfab26b",
   "metadata": {},
   "outputs": [],
   "source": [
    "import DEWPython\n",
    "import pandas\n",
    "from DEWPython import DEWModel as dm"
   ]
  },
  {
   "cell_type": "code",
   "execution_count": 2,
   "id": "3639772a",
   "metadata": {},
   "outputs": [],
   "source": [
    "reaction = dm.DEW()"
   ]
  },
  {
   "cell_type": "code",
   "execution_count": 7,
   "id": "76a499b9",
   "metadata": {
    "scrolled": true
   },
   "outputs": [
    {
     "ename": "NameError",
     "evalue": "name 'CO2' is not defined",
     "output_type": "error",
     "traceback": [
      "\u001b[0;31m---------------------------------------------------------------------------\u001b[0m",
      "\u001b[0;31mNameError\u001b[0m                                 Traceback (most recent call last)",
      "Cell \u001b[0;32mIn[7], line 1\u001b[0m\n\u001b[0;32m----> 1\u001b[0m reaction\u001b[38;5;241m.\u001b[39msupcrt_inp([(\u001b[38;5;241m-\u001b[39m\u001b[38;5;241m1\u001b[39m, (\u001b[43mCO2\u001b[49m,AQ)),(\u001b[38;5;241m-\u001b[39m\u001b[38;5;241m4\u001b[39m, H2,AQ),(\u001b[38;5;241m1\u001b[39m, METHANE,AQ),(\u001b[38;5;241m2\u001b[39m,H2O)], \u001b[38;5;124m'\u001b[39m\u001b[38;5;124mmethanog\u001b[39m\u001b[38;5;124m'\u001b[39m, reaction_type\u001b[38;5;241m=\u001b[39m\u001b[38;5;124m'\u001b[39m\u001b[38;5;124mpsat\u001b[39m\u001b[38;5;124m'\u001b[39m)\n",
      "\u001b[0;31mNameError\u001b[0m: name 'CO2' is not defined"
     ]
    }
   ],
   "source": [
    "# otomatik giriş... deneme aşamasında...\n",
    "#reaction.supcrt_inp([(-1,'CO2,AQ'),(-4, H2,AQ),(1, METHANE,AQ),(2,H2O)], 'methanog', reaction_type='psat')"
   ]
  },
  {
   "cell_type": "code",
   "execution_count": 3,
   "id": "e249f1da",
   "metadata": {
    "scrolled": true
   },
   "outputs": [
    {
     "name": "stdout",
     "output_type": "stream",
     "text": [
      "\n",
      "      Welcome to SUPCRT92 Version 1.1\n",
      "      Author:    James W. Johnson\n",
      "      Abandoned: 13 November 1991\n",
      "\n",
      "      Modified 1996, Apr-May 2005, May 2008\n",
      "      This version of SUPCRT has been modified to\n",
      "      use the four-term heat capacity equation of\n",
      "      Holland and Powell, in addition to that of\n",
      "      Maier-Kelly, with the requisite DPRONS database.\n",
      "      Selected array dimensions have been increased.\n",
      "      Modifications by J. Palandri; call it V.1.96\n",
      "      Abandoned: 19 May 2005\n",
      "\n",
      "\n",
      " would you like to use the default thermodynamic database, dpronshp.dat? (y/n)\n",
      "\n",
      "User Input: y\n",
      "\n",
      " choose file option for specifying reaction-independent parameters: \n",
      "      1 = select one of three default files\n",
      "      2 = select an existing non-default file\n",
      "      3 = build a new file:\n",
      "\n",
      "User Input: 1\n",
      "\n",
      " input solvent phase region\n",
      "      1 = one-phase region \n",
      "      2 = liq-vap saturation curve:\n",
      "      3 = EQ3/6 one-phase/sat grid:\n",
      "\n",
      "User Input: 1\n",
      "\n",
      " choose file option for specifying reactions \n",
      "      1 = use an existing reaction file\n",
      "      2 = build a new reaction file:\n",
      "\n",
      "User Input: 1\n",
      "\n",
      " specify name of reaction file:\n",
      "\n",
      "User Input: ../methanog_sup.reac\n",
      "\n",
      " specify name for tabulated output file:\n",
      "\n",
      "User Input: ../methanog_sup_tmp.out\n",
      "\n",
      " specify option for tabulated output file:\n",
      "      1 = Normal output\n",
      "      2 = T, P, logK, DG, DH, and DS only\n",
      "\n",
      "User Input: 1\n",
      "\n",
      " specify option for x-y plot files:\n",
      " logK, G, H, S, Cp, and V of reaction: \n",
      "      1 = do not generate plot files \n",
      "      2 = generate plot files in generic format\n",
      "      3 = generate plot files in KaleidaGraph format\n",
      "\n",
      "User Input: 1\n",
      "\n",
      " execution in progress ... \n",
      "\n",
      " calculating H2O properties ...\n",
      "\n",
      " calculating properties for reaction   1 of   1 ...\n",
      "\n",
      " ... execution completed.\n",
      "\n",
      "Finished\n",
      "User Input: \n"
     ]
    }
   ],
   "source": [
    "reaction.run_supcrt()"
   ]
  },
  {
   "cell_type": "code",
   "execution_count": 4,
   "id": "68597a3d",
   "metadata": {
    "scrolled": true
   },
   "outputs": [
    {
     "name": "stdout",
     "output_type": "stream",
     "text": [
      "Welcome to DEWPython, here are the options you can run:\n",
      "1. DEW(): this initializes a Deep Earth Water Model Object\n",
      "  -The DEW object requires the set_inputs, set_outputs, set_TPRho, and calculate methods to be run.\n",
      "  -You can also utilize the import_custom_sheets method to import custom CSV data\n",
      "  -After calculating you can use the make_plots or export_to_csv methods.\n",
      "2. run_supcrt: this initializes an inline run of SUPCRTBL\n",
      "  -After initializing the SUPCRTBL object, run calculate_supcrt to store the supcrt outputs in arrays\n",
      "  -You can also use run_supcrt on a supcrt ouput file that has already been run by adding the optional argument of the file name\n",
      "  -After this you can run make_supcrt_plots to plot the supcrt files akin the a DEW file\n"
     ]
    }
   ],
   "source": [
    "reaction.options()"
   ]
  },
  {
   "cell_type": "code",
   "execution_count": 9,
   "id": "8925c454",
   "metadata": {},
   "outputs": [
    {
     "name": "stdout",
     "output_type": "stream",
     "text": [
      "Input the Maximum Temperature1000\n",
      "Input the Maximum Pressure4500\n",
      "methanogen\n",
      "[500.0, 500.0, 500.0, 500.0, 500.0, 500.0, 500.0, 500.0, 500.0, 500.0, 500.0, 1000.0, 1000.0, 1000.0, 1000.0, 1000.0, 1000.0, 1000.0, 1000.0, 1000.0, 1000.0, 1000.0, 1500.0, 1500.0, 1500.0, 1500.0, 1500.0, 1500.0, 1500.0, 1500.0, 1500.0, 1500.0, 1500.0, 2000.0, 2000.0, 2000.0, 2000.0, 2000.0, 2000.0, 2000.0, 2000.0, 2000.0, 2000.0, 2000.0, 2500.0, 2500.0, 2500.0, 2500.0, 2500.0, 2500.0, 2500.0, 2500.0, 2500.0, 2500.0, 2500.0, 3000.0, 3000.0, 3000.0, 3000.0, 3000.0, 3000.0, 3000.0, 3000.0, 3000.0, 3000.0, 3000.0, 3500.0, 3500.0, 3500.0, 3500.0, 3500.0, 3500.0, 3500.0, 3500.0, 3500.0, 3500.0, 3500.0, 4000.0, 4000.0, 4000.0, 4000.0, 4000.0, 4000.0, 4000.0, 4000.0, 4000.0, 4000.0, 4000.0, 4500.0, 4500.0, 4500.0, 4500.0, 4500.0, 4500.0, 4500.0, 4500.0, 4500.0, 4500.0, 4500.0]\n",
      "[0.0, 100.0, 200.0, 300.0, 400.0, 500.0, 600.0, 700.0, 800.0, 900.0, 1000.0, 0.0, 100.0, 200.0, 300.0, 400.0, 500.0, 600.0, 700.0, 800.0, 900.0, 1000.0, 0.0, 100.0, 200.0, 300.0, 400.0, 500.0, 600.0, 700.0, 800.0, 900.0, 1000.0, 0.0, 100.0, 200.0, 300.0, 400.0, 500.0, 600.0, 700.0, 800.0, 900.0, 1000.0, 0.0, 100.0, 200.0, 300.0, 400.0, 500.0, 600.0, 700.0, 800.0, 900.0, 1000.0, 0.0, 100.0, 200.0, 300.0, 400.0, 500.0, 600.0, 700.0, 800.0, 900.0, 1000.0, 0.0, 100.0, 200.0, 300.0, 400.0, 500.0, 600.0, 700.0, 800.0, 900.0, 1000.0, 0.0, 100.0, 200.0, 300.0, 400.0, 500.0, 600.0, 700.0, 800.0, 900.0, 1000.0, 0.0, 100.0, 200.0, 300.0, 400.0, 500.0, 600.0, 700.0, 800.0, 900.0, 1000.0]\n"
     ]
    }
   ],
   "source": [
    "reaction.calculate_supcrt(customFile='methanog_sup_tmp.out')"
   ]
  },
  {
   "cell_type": "code",
   "execution_count": 11,
   "id": "54f03339",
   "metadata": {
    "scrolled": true
   },
   "outputs": [],
   "source": [
    "#keyname = next(iter(reaction.supcrtOut))\n",
    "#temp = reaction.supcrtOut[keyname]['Temperature']\n",
    "#T = [row+273.15 for row in temp]\n",
    "# Reaction's SUPCRT outputs are here:\n",
    "# reaction.supcrtOut[keyname]"
   ]
  },
  {
   "cell_type": "code",
   "execution_count": 10,
   "id": "f2f213c1",
   "metadata": {},
   "outputs": [
    {
     "data": {
      "text/plain": [
       "<matplotlib.colorbar.Colorbar at 0x1655bcf40>"
      ]
     },
     "execution_count": 10,
     "metadata": {},
     "output_type": "execute_result"
    },
    {
     "data": {
      "image/png": "[encoded data removed]",
      "text/plain": [
       "<Figure size 640x480 with 2 Axes>"
      ]
     },
     "metadata": {},
     "output_type": "display_data"
    }
   ],
   "source": [
    "from matplotlib import pyplot as plt\n",
    "plt.tricontourf(reaction.supcrtOut['methanogen']['Temperature'],\n",
    "               reaction.supcrtOut['methanogen']['Pressure'],\n",
    "               reaction.supcrtOut['methanogen']['LogK'],20)\n",
    "plt.colorbar()"
   ]
  },
  {
   "cell_type": "code",
   "execution_count": 7,
   "id": "16fa560a",
   "metadata": {
    "scrolled": true
   },
   "outputs": [
    {
     "name": "stdout",
     "output_type": "stream",
     "text": [
      "Input the name of the CSV file: methanogen-supcrt\n"
     ]
    }
   ],
   "source": [
    "reaction.export_supcrt_to_csv()"
   ]
  },
  {
   "cell_type": "code",
   "execution_count": null,
   "id": "f1ab924a",
   "metadata": {},
   "outputs": [],
   "source": []
  }
 ],
 "metadata": {
  "kernelspec": {
   "display_name": "Python 3 (ipykernel)",
   "language": "python",
   "name": "python3"
  },
  "language_info": {
   "codemirror_mode": {
    "name": "ipython",
    "version": 3
   },
   "file_extension": ".py",
   "mimetype": "text/x-python",
   "name": "python",
   "nbconvert_exporter": "python",
   "pygments_lexer": "ipython3",
   "version": "3.8.15"
  }
 },
 "nbformat": 4,
 "nbformat_minor": 5
}
